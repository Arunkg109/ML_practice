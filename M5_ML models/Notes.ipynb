{
 "cells": [
  {
   "cell_type": "markdown",
   "id": "9a0e525a",
   "metadata": {},
   "source": [
    "## In jupyter notebook, make a markdown and write your understanding about MAPE, Accuracy, Precision and Recall. Build a user defined function for Accuracy and MAPE."
   ]
  },
  {
   "cell_type": "markdown",
   "id": "67bd97b7",
   "metadata": {},
   "source": []
  },
  {
   "cell_type": "markdown",
   "id": "108101bf",
   "metadata": {},
   "source": [
    "# MAPE\n",
    "\n",
    "* MAPE stands for Mean absolute percentage error\n",
    "* It gives the error in percentage value\n",
    "* Mean absolute percentage error is commonly used as a loss function for regression problems and in model evaluation, because of its very intuitive interpretation in terms of relative error.\n",
    "\n",
    "Steps to calculate MAPE\n",
    "* 1. Calculate error = actual - predicted\n",
    "* 2. Calculate % error = error/ actual\n",
    "* 3. Calculate absolute % error \n",
    "* 4. Find mean of APE"
   ]
  },
  {
   "cell_type": "code",
   "execution_count": 5,
   "id": "d18c7d4e",
   "metadata": {},
   "outputs": [
    {
     "data": {
      "text/plain": [
       "7.135825109964509"
      ]
     },
     "execution_count": 5,
     "metadata": {},
     "output_type": "execute_result"
    }
   ],
   "source": [
    "# MAPE used define function\n",
    "\n",
    "import numpy as np\n",
    "from math import sqrt\n",
    "\n",
    "\n",
    "actual = list(np.random.randint(80, 100, 25))\n",
    "\n",
    "predicted = list(np.random.randint(80,100,25))\n",
    "\n",
    "\n",
    "\n",
    "\n",
    "def mape (actual, predicted):\n",
    "    error = 0\n",
    "    for av, pv in zip(actual, predicted):\n",
    "        error = error + (av- pv) **2\n",
    "    return sqrt (error/len(actual))\n",
    "mape(actual,predicted)"
   ]
  },
  {
   "cell_type": "markdown",
   "id": "da213692",
   "metadata": {},
   "source": [
    "# Accuracy\n",
    "* Accuracy is the proportion of the total number of predictions that were correct.\n",
    "* Accuracy metric can be used to evaluate the classifier when the data set is a balanced data set. Accuracy metric should not be used when the data set is imbalanced."
   ]
  },
  {
   "cell_type": "markdown",
   "id": "c8c738c5",
   "metadata": {},
   "source": [
    "# Precision\n",
    "* Precision is the ratio of true positives (TP) by the sum of true positives (TP) and false positives (FP).\n",
    "* Precision should be used based on the use case\n"
   ]
  },
  {
   "cell_type": "markdown",
   "id": "ee4802d2",
   "metadata": {},
   "source": [
    "# Recall (or Sensitivity or True Positive Rate)\n",
    "* Recall is the ratio of true positives (TP) by the sum of true positives (TP) and false negatives (FN).\n"
   ]
  }
 ],
 "metadata": {
  "kernelspec": {
   "display_name": "Python 3 (ipykernel)",
   "language": "python",
   "name": "python3"
  },
  "language_info": {
   "codemirror_mode": {
    "name": "ipython",
    "version": 3
   },
   "file_extension": ".py",
   "mimetype": "text/x-python",
   "name": "python",
   "nbconvert_exporter": "python",
   "pygments_lexer": "ipython3",
   "version": "3.9.7"
  }
 },
 "nbformat": 4,
 "nbformat_minor": 5
}
