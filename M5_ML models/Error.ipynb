{
 "cells": [
  {
   "cell_type": "code",
   "execution_count": 1,
   "id": "353f852c",
   "metadata": {},
   "outputs": [],
   "source": [
    "import numpy as np\n",
    "from math import sqrt"
   ]
  },
  {
   "cell_type": "code",
   "execution_count": 2,
   "id": "511ad47c",
   "metadata": {},
   "outputs": [
    {
     "name": "stdout",
     "output_type": "stream",
     "text": [
      "A\n",
      "r\n",
      "u\n",
      "n\n"
     ]
    }
   ],
   "source": [
    "name = 'Arun'\n",
    "\n",
    "# for loop\n",
    "for i in name:\n",
    "    print(i)"
   ]
  },
  {
   "cell_type": "code",
   "execution_count": 3,
   "id": "aff7cbe0",
   "metadata": {},
   "outputs": [
    {
     "data": {
      "text/plain": [
       "[(1, 5), (2, 6), (3, 7), (4, 8)]"
      ]
     },
     "execution_count": 3,
     "metadata": {},
     "output_type": "execute_result"
    }
   ],
   "source": [
    "# Zipping\n",
    "\n",
    "a = [1, 2, 3, 4]\n",
    "b = [5, 6, 7, 8]\n",
    "list(zip(a,b))"
   ]
  },
  {
   "cell_type": "code",
   "execution_count": 4,
   "id": "574497ff",
   "metadata": {},
   "outputs": [],
   "source": [
    "# define a new function using def\n",
    "# creating user define function for calculation of RMSE\n",
    "\n",
    "def rmse(actual, predicted):\n",
    "    error = 0\n",
    "    for av, pv in zip(actual, predicted):\n",
    "        error = error + (av-pv)        # OR  error = error + (av-pv)** 2\n",
    "        squared_error = error *  error     # No need\n",
    "    return sqrt(squared_error/len(actual))  # return sqrt(error/len(actual))\n",
    "\n",
    "\n",
    "\n",
    "\n",
    "\n",
    "    "
   ]
  },
  {
   "cell_type": "code",
   "execution_count": 5,
   "id": "07f82e47",
   "metadata": {},
   "outputs": [],
   "source": [
    "actual = list(np.random.randint(80, 100, 25))\n",
    "\n",
    "predicted = list(np.random.randint(80,100,25))\n"
   ]
  },
  {
   "cell_type": "code",
   "execution_count": 6,
   "id": "354a9ed8",
   "metadata": {},
   "outputs": [
    {
     "data": {
      "text/plain": [
       "7.6"
      ]
     },
     "execution_count": 6,
     "metadata": {},
     "output_type": "execute_result"
    }
   ],
   "source": [
    "rmse(actual,predicted)"
   ]
  },
  {
   "cell_type": "code",
   "execution_count": null,
   "id": "a150e4f2",
   "metadata": {},
   "outputs": [],
   "source": []
  },
  {
   "cell_type": "code",
   "execution_count": 7,
   "id": "c0a20715",
   "metadata": {},
   "outputs": [],
   "source": [
    "# MAPE\n",
    "\n",
    "def mape (actual, predicted):\n",
    "    error = 0\n",
    "    for av, pv in zip(actual, predicted):\n",
    "        error = error + (av- pv) **2\n",
    "    return sqrt (error/len(actual))"
   ]
  },
  {
   "cell_type": "code",
   "execution_count": 8,
   "id": "546f1388",
   "metadata": {},
   "outputs": [
    {
     "data": {
      "text/plain": [
       "9.037698822156003"
      ]
     },
     "execution_count": 8,
     "metadata": {},
     "output_type": "execute_result"
    }
   ],
   "source": [
    "mape(actual,predicted)"
   ]
  },
  {
   "cell_type": "code",
   "execution_count": null,
   "id": "7a16b998",
   "metadata": {},
   "outputs": [],
   "source": []
  },
  {
   "cell_type": "code",
   "execution_count": 9,
   "id": "79fd91fa",
   "metadata": {},
   "outputs": [],
   "source": [
    "# Evaluation matrix for classification\n",
    "\n",
    "#> Accuracy\n",
    "#> precition\n",
    "#> confusion matrix\n",
    "#> recall\n",
    "#> f1 scorea"
   ]
  },
  {
   "cell_type": "code",
   "execution_count": 12,
   "id": "721c6ff6",
   "metadata": {},
   "outputs": [
    {
     "name": "stdout",
     "output_type": "stream",
     "text": [
      "              precision    recall  f1-score   support\n",
      "\n",
      "           0       0.50      0.60      0.55         5\n",
      "           1       0.50      0.40      0.44         5\n",
      "\n",
      "    accuracy                           0.50        10\n",
      "   macro avg       0.50      0.50      0.49        10\n",
      "weighted avg       0.50      0.50      0.49        10\n",
      "\n"
     ]
    }
   ],
   "source": [
    "#Dummy data\n",
    "a = [1,0,0,0,1,0,1,1,1,0]\n",
    "b = [0,1,0,0,0,1,1,1,0,0]\n",
    "from sklearn.metrics import classification_report\n",
    "print(classification_report(a,b))"
   ]
  },
  {
   "cell_type": "code",
   "execution_count": null,
   "id": "7e49cd4a",
   "metadata": {},
   "outputs": [],
   "source": []
  },
  {
   "cell_type": "code",
   "execution_count": null,
   "id": "98218df8",
   "metadata": {},
   "outputs": [],
   "source": []
  },
  {
   "cell_type": "code",
   "execution_count": null,
   "id": "d3da06f1",
   "metadata": {},
   "outputs": [],
   "source": []
  },
  {
   "cell_type": "code",
   "execution_count": null,
   "id": "1ff8dec8",
   "metadata": {},
   "outputs": [],
   "source": []
  },
  {
   "cell_type": "code",
   "execution_count": null,
   "id": "93a672ac",
   "metadata": {},
   "outputs": [],
   "source": []
  },
  {
   "cell_type": "code",
   "execution_count": null,
   "id": "74df992c",
   "metadata": {},
   "outputs": [],
   "source": []
  },
  {
   "cell_type": "code",
   "execution_count": null,
   "id": "b3209728",
   "metadata": {},
   "outputs": [],
   "source": []
  }
 ],
 "metadata": {
  "kernelspec": {
   "display_name": "Python 3 (ipykernel)",
   "language": "python",
   "name": "python3"
  },
  "language_info": {
   "codemirror_mode": {
    "name": "ipython",
    "version": 3
   },
   "file_extension": ".py",
   "mimetype": "text/x-python",
   "name": "python",
   "nbconvert_exporter": "python",
   "pygments_lexer": "ipython3",
   "version": "3.9.7"
  }
 },
 "nbformat": 4,
 "nbformat_minor": 5
}
