{
 "cells": [
  {
   "cell_type": "markdown",
   "id": "eb05f8ea",
   "metadata": {},
   "source": [
    "# Use the dataset named as Cross Sell Insurance.xlsx to build a classification model. This data consists of customers and vehicle data and with the help of input features we need to predict whether the customer will buy the insurance. Response is our target variable (1 is yes and 0 is no).\n",
    "\n",
    "* 1) What is the accuracy when you use a Random forest?\n",
    "* 2) What is the accuracy when you use an SVM? How does changing the model affect the accuracy?\n",
    "* 3) Find the top 4 important factors by using Random Forest. What is your inference?\n",
    "* 4) Which evaluation metrics is important and why?"
   ]
  },
  {
   "cell_type": "code",
   "execution_count": 1,
   "id": "4697b24f",
   "metadata": {},
   "outputs": [
    {
     "data": {
      "text/html": [
       "<div>\n",
       "<style scoped>\n",
       "    .dataframe tbody tr th:only-of-type {\n",
       "        vertical-align: middle;\n",
       "    }\n",
       "\n",
       "    .dataframe tbody tr th {\n",
       "        vertical-align: top;\n",
       "    }\n",
       "\n",
       "    .dataframe thead th {\n",
       "        text-align: right;\n",
       "    }\n",
       "</style>\n",
       "<table border=\"1\" class=\"dataframe\">\n",
       "  <thead>\n",
       "    <tr style=\"text-align: right;\">\n",
       "      <th></th>\n",
       "      <th>id</th>\n",
       "      <th>Gender</th>\n",
       "      <th>Age</th>\n",
       "      <th>Driving_License</th>\n",
       "      <th>Previously_Insured</th>\n",
       "      <th>Vehicle_Age</th>\n",
       "      <th>Vehicle_Damage</th>\n",
       "      <th>Annual_Premium</th>\n",
       "      <th>Vintage Score</th>\n",
       "      <th>Response</th>\n",
       "    </tr>\n",
       "  </thead>\n",
       "  <tbody>\n",
       "    <tr>\n",
       "      <th>0</th>\n",
       "      <td>1</td>\n",
       "      <td>Male</td>\n",
       "      <td>44</td>\n",
       "      <td>1</td>\n",
       "      <td>0</td>\n",
       "      <td>&gt; 2 Years</td>\n",
       "      <td>Yes</td>\n",
       "      <td>40454</td>\n",
       "      <td>217</td>\n",
       "      <td>1</td>\n",
       "    </tr>\n",
       "    <tr>\n",
       "      <th>1</th>\n",
       "      <td>2</td>\n",
       "      <td>Male</td>\n",
       "      <td>76</td>\n",
       "      <td>1</td>\n",
       "      <td>0</td>\n",
       "      <td>1-2 Year</td>\n",
       "      <td>No</td>\n",
       "      <td>33536</td>\n",
       "      <td>183</td>\n",
       "      <td>0</td>\n",
       "    </tr>\n",
       "    <tr>\n",
       "      <th>2</th>\n",
       "      <td>3</td>\n",
       "      <td>Male</td>\n",
       "      <td>47</td>\n",
       "      <td>1</td>\n",
       "      <td>0</td>\n",
       "      <td>&gt; 2 Years</td>\n",
       "      <td>Yes</td>\n",
       "      <td>38294</td>\n",
       "      <td>27</td>\n",
       "      <td>1</td>\n",
       "    </tr>\n",
       "    <tr>\n",
       "      <th>3</th>\n",
       "      <td>4</td>\n",
       "      <td>Male</td>\n",
       "      <td>21</td>\n",
       "      <td>1</td>\n",
       "      <td>1</td>\n",
       "      <td>&lt; 1 Year</td>\n",
       "      <td>No</td>\n",
       "      <td>28619</td>\n",
       "      <td>203</td>\n",
       "      <td>0</td>\n",
       "    </tr>\n",
       "    <tr>\n",
       "      <th>4</th>\n",
       "      <td>5</td>\n",
       "      <td>Female</td>\n",
       "      <td>29</td>\n",
       "      <td>1</td>\n",
       "      <td>1</td>\n",
       "      <td>&lt; 1 Year</td>\n",
       "      <td>No</td>\n",
       "      <td>27496</td>\n",
       "      <td>39</td>\n",
       "      <td>0</td>\n",
       "    </tr>\n",
       "  </tbody>\n",
       "</table>\n",
       "</div>"
      ],
      "text/plain": [
       "   id  Gender  Age  Driving_License  Previously_Insured Vehicle_Age  \\\n",
       "0   1    Male   44                1                   0   > 2 Years   \n",
       "1   2    Male   76                1                   0    1-2 Year   \n",
       "2   3    Male   47                1                   0   > 2 Years   \n",
       "3   4    Male   21                1                   1    < 1 Year   \n",
       "4   5  Female   29                1                   1    < 1 Year   \n",
       "\n",
       "  Vehicle_Damage  Annual_Premium  Vintage Score  Response  \n",
       "0            Yes           40454            217         1  \n",
       "1             No           33536            183         0  \n",
       "2            Yes           38294             27         1  \n",
       "3             No           28619            203         0  \n",
       "4             No           27496             39         0  "
      ]
     },
     "execution_count": 1,
     "metadata": {},
     "output_type": "execute_result"
    }
   ],
   "source": [
    "import pandas as pd\n",
    "\n",
    "insurance = pd.read_excel('F:\\Skillenable\\Data frames\\Cross Sell Insurance.xlsx')\n",
    "insurance.head()"
   ]
  },
  {
   "cell_type": "code",
   "execution_count": 2,
   "id": "56676f5a",
   "metadata": {},
   "outputs": [
    {
     "name": "stdout",
     "output_type": "stream",
     "text": [
      "<class 'pandas.core.frame.DataFrame'>\n",
      "RangeIndex: 3999 entries, 0 to 3998\n",
      "Data columns (total 10 columns):\n",
      " #   Column              Non-Null Count  Dtype \n",
      "---  ------              --------------  ----- \n",
      " 0   id                  3999 non-null   int64 \n",
      " 1   Gender              3999 non-null   object\n",
      " 2   Age                 3999 non-null   int64 \n",
      " 3   Driving_License     3999 non-null   int64 \n",
      " 4   Previously_Insured  3999 non-null   int64 \n",
      " 5   Vehicle_Age         3999 non-null   object\n",
      " 6   Vehicle_Damage      3999 non-null   object\n",
      " 7   Annual_Premium      3999 non-null   int64 \n",
      " 8   Vintage Score       3999 non-null   int64 \n",
      " 9   Response            3999 non-null   int64 \n",
      "dtypes: int64(7), object(3)\n",
      "memory usage: 312.5+ KB\n"
     ]
    }
   ],
   "source": [
    "insurance.info()"
   ]
  },
  {
   "cell_type": "code",
   "execution_count": 3,
   "id": "cf782699",
   "metadata": {},
   "outputs": [
    {
     "data": {
      "text/plain": [
       "id                    0\n",
       "Gender                0\n",
       "Age                   0\n",
       "Driving_License       0\n",
       "Previously_Insured    0\n",
       "Vehicle_Age           0\n",
       "Vehicle_Damage        0\n",
       "Annual_Premium        0\n",
       "Vintage Score         0\n",
       "Response              0\n",
       "dtype: int64"
      ]
     },
     "execution_count": 3,
     "metadata": {},
     "output_type": "execute_result"
    }
   ],
   "source": [
    "insurance.isnull().sum()"
   ]
  },
  {
   "cell_type": "code",
   "execution_count": 4,
   "id": "bdb24dfb",
   "metadata": {},
   "outputs": [
    {
     "data": {
      "text/plain": [
       "(3999, 10)"
      ]
     },
     "execution_count": 4,
     "metadata": {},
     "output_type": "execute_result"
    }
   ],
   "source": [
    "insurance.shape"
   ]
  },
  {
   "cell_type": "code",
   "execution_count": 5,
   "id": "efadc21e",
   "metadata": {},
   "outputs": [
    {
     "data": {
      "text/plain": [
       "['Gender', 'Vehicle_Age', 'Vehicle_Damage']"
      ]
     },
     "execution_count": 5,
     "metadata": {},
     "output_type": "execute_result"
    }
   ],
   "source": [
    "# crete dummy data for catagorical values\n",
    "cat_col = ['Gender', 'Vehicle_Age', 'Vehicle_Damage']\n",
    "cat_col"
   ]
  },
  {
   "cell_type": "code",
   "execution_count": 6,
   "id": "b4c83854",
   "metadata": {},
   "outputs": [
    {
     "data": {
      "text/html": [
       "<div>\n",
       "<style scoped>\n",
       "    .dataframe tbody tr th:only-of-type {\n",
       "        vertical-align: middle;\n",
       "    }\n",
       "\n",
       "    .dataframe tbody tr th {\n",
       "        vertical-align: top;\n",
       "    }\n",
       "\n",
       "    .dataframe thead th {\n",
       "        text-align: right;\n",
       "    }\n",
       "</style>\n",
       "<table border=\"1\" class=\"dataframe\">\n",
       "  <thead>\n",
       "    <tr style=\"text-align: right;\">\n",
       "      <th></th>\n",
       "      <th>id</th>\n",
       "      <th>Age</th>\n",
       "      <th>Driving_License</th>\n",
       "      <th>Previously_Insured</th>\n",
       "      <th>Annual_Premium</th>\n",
       "      <th>Vintage Score</th>\n",
       "      <th>Response</th>\n",
       "      <th>Gender_Male</th>\n",
       "      <th>Vehicle_Age_&lt; 1 Year</th>\n",
       "      <th>Vehicle_Age_&gt; 2 Years</th>\n",
       "      <th>Vehicle_Damage_Yes</th>\n",
       "    </tr>\n",
       "  </thead>\n",
       "  <tbody>\n",
       "    <tr>\n",
       "      <th>0</th>\n",
       "      <td>1</td>\n",
       "      <td>44</td>\n",
       "      <td>1</td>\n",
       "      <td>0</td>\n",
       "      <td>40454</td>\n",
       "      <td>217</td>\n",
       "      <td>1</td>\n",
       "      <td>1</td>\n",
       "      <td>0</td>\n",
       "      <td>1</td>\n",
       "      <td>1</td>\n",
       "    </tr>\n",
       "    <tr>\n",
       "      <th>1</th>\n",
       "      <td>2</td>\n",
       "      <td>76</td>\n",
       "      <td>1</td>\n",
       "      <td>0</td>\n",
       "      <td>33536</td>\n",
       "      <td>183</td>\n",
       "      <td>0</td>\n",
       "      <td>1</td>\n",
       "      <td>0</td>\n",
       "      <td>0</td>\n",
       "      <td>0</td>\n",
       "    </tr>\n",
       "    <tr>\n",
       "      <th>2</th>\n",
       "      <td>3</td>\n",
       "      <td>47</td>\n",
       "      <td>1</td>\n",
       "      <td>0</td>\n",
       "      <td>38294</td>\n",
       "      <td>27</td>\n",
       "      <td>1</td>\n",
       "      <td>1</td>\n",
       "      <td>0</td>\n",
       "      <td>1</td>\n",
       "      <td>1</td>\n",
       "    </tr>\n",
       "    <tr>\n",
       "      <th>3</th>\n",
       "      <td>4</td>\n",
       "      <td>21</td>\n",
       "      <td>1</td>\n",
       "      <td>1</td>\n",
       "      <td>28619</td>\n",
       "      <td>203</td>\n",
       "      <td>0</td>\n",
       "      <td>1</td>\n",
       "      <td>1</td>\n",
       "      <td>0</td>\n",
       "      <td>0</td>\n",
       "    </tr>\n",
       "    <tr>\n",
       "      <th>4</th>\n",
       "      <td>5</td>\n",
       "      <td>29</td>\n",
       "      <td>1</td>\n",
       "      <td>1</td>\n",
       "      <td>27496</td>\n",
       "      <td>39</td>\n",
       "      <td>0</td>\n",
       "      <td>0</td>\n",
       "      <td>1</td>\n",
       "      <td>0</td>\n",
       "      <td>0</td>\n",
       "    </tr>\n",
       "  </tbody>\n",
       "</table>\n",
       "</div>"
      ],
      "text/plain": [
       "   id  Age  Driving_License  Previously_Insured  Annual_Premium  \\\n",
       "0   1   44                1                   0           40454   \n",
       "1   2   76                1                   0           33536   \n",
       "2   3   47                1                   0           38294   \n",
       "3   4   21                1                   1           28619   \n",
       "4   5   29                1                   1           27496   \n",
       "\n",
       "   Vintage Score  Response  Gender_Male  Vehicle_Age_< 1 Year  \\\n",
       "0            217         1            1                     0   \n",
       "1            183         0            1                     0   \n",
       "2             27         1            1                     0   \n",
       "3            203         0            1                     1   \n",
       "4             39         0            0                     1   \n",
       "\n",
       "   Vehicle_Age_> 2 Years  Vehicle_Damage_Yes  \n",
       "0                      1                   1  \n",
       "1                      0                   0  \n",
       "2                      1                   1  \n",
       "3                      0                   0  \n",
       "4                      0                   0  "
      ]
     },
     "execution_count": 6,
     "metadata": {},
     "output_type": "execute_result"
    }
   ],
   "source": [
    "insurance_dummy = pd.get_dummies(insurance, columns = cat_col, drop_first= True)\n",
    "insurance_dummy.head()"
   ]
  },
  {
   "cell_type": "code",
   "execution_count": 12,
   "id": "fe474d00",
   "metadata": {},
   "outputs": [
    {
     "data": {
      "text/plain": [
       "(3199, 800, 3199, 800)"
      ]
     },
     "execution_count": 12,
     "metadata": {},
     "output_type": "execute_result"
    }
   ],
   "source": [
    "# create input(X) and output(Y)\n",
    "Y = insurance_dummy[['Response']]\n",
    "X = insurance_dummy.drop(columns=['Response'])\n",
    "\n",
    "from sklearn.model_selection import train_test_split\n",
    "\n",
    "X_train,X_test,Y_train,Y_test = train_test_split(X,Y,test_size=0.2,random_state=47)\n",
    "len(X_train),len(X_test),len(Y_train),len(Y_test)"
   ]
  },
  {
   "cell_type": "markdown",
   "id": "4f3d0451",
   "metadata": {},
   "source": [
    "## 1) What is the accuracy when you use as Random forest?"
   ]
  },
  {
   "cell_type": "code",
   "execution_count": 17,
   "id": "ab6d8fac",
   "metadata": {},
   "outputs": [
    {
     "name": "stderr",
     "output_type": "stream",
     "text": [
      "C:\\Users\\arun\\AppData\\Local\\Temp/ipykernel_17548/95859436.py:5: DataConversionWarning: A column-vector y was passed when a 1d array was expected. Please change the shape of y to (n_samples,), for example using ravel().\n",
      "  rf = model.fit(X_train,Y_train)\n"
     ]
    }
   ],
   "source": [
    "# creating random forest model\n",
    "from sklearn.ensemble import RandomForestClassifier\n",
    "\n",
    "model = RandomForestClassifier(n_estimators=1000,random_state=42)\n",
    "rf = model.fit(X_train,Y_train)\n",
    "\n"
   ]
  },
  {
   "cell_type": "code",
   "execution_count": 18,
   "id": "67079abe",
   "metadata": {},
   "outputs": [
    {
     "data": {
      "text/html": [
       "<div>\n",
       "<style scoped>\n",
       "    .dataframe tbody tr th:only-of-type {\n",
       "        vertical-align: middle;\n",
       "    }\n",
       "\n",
       "    .dataframe tbody tr th {\n",
       "        vertical-align: top;\n",
       "    }\n",
       "\n",
       "    .dataframe thead th {\n",
       "        text-align: right;\n",
       "    }\n",
       "</style>\n",
       "<table border=\"1\" class=\"dataframe\">\n",
       "  <thead>\n",
       "    <tr style=\"text-align: right;\">\n",
       "      <th></th>\n",
       "      <th>Response</th>\n",
       "      <th>Prediction</th>\n",
       "    </tr>\n",
       "  </thead>\n",
       "  <tbody>\n",
       "    <tr>\n",
       "      <th>1568</th>\n",
       "      <td>1</td>\n",
       "      <td>0</td>\n",
       "    </tr>\n",
       "    <tr>\n",
       "      <th>648</th>\n",
       "      <td>0</td>\n",
       "      <td>0</td>\n",
       "    </tr>\n",
       "    <tr>\n",
       "      <th>3615</th>\n",
       "      <td>0</td>\n",
       "      <td>0</td>\n",
       "    </tr>\n",
       "    <tr>\n",
       "      <th>3734</th>\n",
       "      <td>1</td>\n",
       "      <td>0</td>\n",
       "    </tr>\n",
       "    <tr>\n",
       "      <th>2515</th>\n",
       "      <td>0</td>\n",
       "      <td>0</td>\n",
       "    </tr>\n",
       "    <tr>\n",
       "      <th>...</th>\n",
       "      <td>...</td>\n",
       "      <td>...</td>\n",
       "    </tr>\n",
       "    <tr>\n",
       "      <th>1323</th>\n",
       "      <td>0</td>\n",
       "      <td>1</td>\n",
       "    </tr>\n",
       "    <tr>\n",
       "      <th>3454</th>\n",
       "      <td>0</td>\n",
       "      <td>0</td>\n",
       "    </tr>\n",
       "    <tr>\n",
       "      <th>1057</th>\n",
       "      <td>0</td>\n",
       "      <td>0</td>\n",
       "    </tr>\n",
       "    <tr>\n",
       "      <th>2439</th>\n",
       "      <td>0</td>\n",
       "      <td>0</td>\n",
       "    </tr>\n",
       "    <tr>\n",
       "      <th>2507</th>\n",
       "      <td>0</td>\n",
       "      <td>0</td>\n",
       "    </tr>\n",
       "  </tbody>\n",
       "</table>\n",
       "<p>800 rows × 2 columns</p>\n",
       "</div>"
      ],
      "text/plain": [
       "      Response  Prediction\n",
       "1568         1           0\n",
       "648          0           0\n",
       "3615         0           0\n",
       "3734         1           0\n",
       "2515         0           0\n",
       "...        ...         ...\n",
       "1323         0           1\n",
       "3454         0           0\n",
       "1057         0           0\n",
       "2439         0           0\n",
       "2507         0           0\n",
       "\n",
       "[800 rows x 2 columns]"
      ]
     },
     "execution_count": 18,
     "metadata": {},
     "output_type": "execute_result"
    }
   ],
   "source": [
    "# Predicting the model on test data\n",
    "Y_test"
   ]
  },
  {
   "cell_type": "code",
   "execution_count": 19,
   "id": "b836b5a8",
   "metadata": {},
   "outputs": [
    {
     "data": {
      "text/html": [
       "<div>\n",
       "<style scoped>\n",
       "    .dataframe tbody tr th:only-of-type {\n",
       "        vertical-align: middle;\n",
       "    }\n",
       "\n",
       "    .dataframe tbody tr th {\n",
       "        vertical-align: top;\n",
       "    }\n",
       "\n",
       "    .dataframe thead th {\n",
       "        text-align: right;\n",
       "    }\n",
       "</style>\n",
       "<table border=\"1\" class=\"dataframe\">\n",
       "  <thead>\n",
       "    <tr style=\"text-align: right;\">\n",
       "      <th></th>\n",
       "      <th>Response</th>\n",
       "      <th>Prediction</th>\n",
       "    </tr>\n",
       "  </thead>\n",
       "  <tbody>\n",
       "    <tr>\n",
       "      <th>1568</th>\n",
       "      <td>1</td>\n",
       "      <td>0</td>\n",
       "    </tr>\n",
       "    <tr>\n",
       "      <th>648</th>\n",
       "      <td>0</td>\n",
       "      <td>0</td>\n",
       "    </tr>\n",
       "    <tr>\n",
       "      <th>3615</th>\n",
       "      <td>0</td>\n",
       "      <td>0</td>\n",
       "    </tr>\n",
       "    <tr>\n",
       "      <th>3734</th>\n",
       "      <td>1</td>\n",
       "      <td>0</td>\n",
       "    </tr>\n",
       "    <tr>\n",
       "      <th>2515</th>\n",
       "      <td>0</td>\n",
       "      <td>0</td>\n",
       "    </tr>\n",
       "    <tr>\n",
       "      <th>...</th>\n",
       "      <td>...</td>\n",
       "      <td>...</td>\n",
       "    </tr>\n",
       "    <tr>\n",
       "      <th>1323</th>\n",
       "      <td>0</td>\n",
       "      <td>1</td>\n",
       "    </tr>\n",
       "    <tr>\n",
       "      <th>3454</th>\n",
       "      <td>0</td>\n",
       "      <td>0</td>\n",
       "    </tr>\n",
       "    <tr>\n",
       "      <th>1057</th>\n",
       "      <td>0</td>\n",
       "      <td>0</td>\n",
       "    </tr>\n",
       "    <tr>\n",
       "      <th>2439</th>\n",
       "      <td>0</td>\n",
       "      <td>0</td>\n",
       "    </tr>\n",
       "    <tr>\n",
       "      <th>2507</th>\n",
       "      <td>0</td>\n",
       "      <td>0</td>\n",
       "    </tr>\n",
       "  </tbody>\n",
       "</table>\n",
       "<p>800 rows × 2 columns</p>\n",
       "</div>"
      ],
      "text/plain": [
       "      Response  Prediction\n",
       "1568         1           0\n",
       "648          0           0\n",
       "3615         0           0\n",
       "3734         1           0\n",
       "2515         0           0\n",
       "...        ...         ...\n",
       "1323         0           1\n",
       "3454         0           0\n",
       "1057         0           0\n",
       "2439         0           0\n",
       "2507         0           0\n",
       "\n",
       "[800 rows x 2 columns]"
      ]
     },
     "execution_count": 19,
     "metadata": {},
     "output_type": "execute_result"
    }
   ],
   "source": [
    "Y_test['Prediction'] = model.predict(X_test)\n",
    "Y_test"
   ]
  },
  {
   "cell_type": "code",
   "execution_count": 20,
   "id": "37c394a9",
   "metadata": {},
   "outputs": [
    {
     "name": "stdout",
     "output_type": "stream",
     "text": [
      "[[685  14]\n",
      " [ 91  10]]\n"
     ]
    }
   ],
   "source": [
    "from sklearn.metrics import confusion_matrix, accuracy_score\n",
    "\n",
    "print(confusion_matrix(Y_test['Response'],Y_test['Prediction']))"
   ]
  },
  {
   "cell_type": "code",
   "execution_count": 21,
   "id": "4da6cf83",
   "metadata": {},
   "outputs": [
    {
     "name": "stdout",
     "output_type": "stream",
     "text": [
      "0.86875\n"
     ]
    }
   ],
   "source": [
    "print(accuracy_score(Y_test['Response'],Y_test['Prediction']))\n"
   ]
  },
  {
   "cell_type": "markdown",
   "id": "b47bafc4",
   "metadata": {},
   "source": [
    "### accuracy of Random Forest is 86.88%"
   ]
  },
  {
   "cell_type": "markdown",
   "id": "cdd11cf6",
   "metadata": {},
   "source": [
    "## 3) Find the top 4 important factors by using Random Forest. What is your inference?"
   ]
  },
  {
   "cell_type": "code",
   "execution_count": 22,
   "id": "6ec52bd0",
   "metadata": {},
   "outputs": [
    {
     "data": {
      "text/plain": [
       "array([0.22057818, 0.19092477, 0.00041744, 0.05003073, 0.19030038,\n",
       "       0.2171911 , 0.02241607, 0.02078281, 0.01200518, 0.07535333])"
      ]
     },
     "execution_count": 22,
     "metadata": {},
     "output_type": "execute_result"
    }
   ],
   "source": [
    "model.feature_importances_"
   ]
  },
  {
   "cell_type": "code",
   "execution_count": 23,
   "id": "22bc3695",
   "metadata": {},
   "outputs": [
    {
     "data": {
      "text/plain": [
       "id                       0.220578\n",
       "Vintage Score            0.217191\n",
       "Age                      0.190925\n",
       "Annual_Premium           0.190300\n",
       "Vehicle_Damage_Yes       0.075353\n",
       "Previously_Insured       0.050031\n",
       "Gender_Male              0.022416\n",
       "Vehicle_Age_< 1 Year     0.020783\n",
       "Vehicle_Age_> 2 Years    0.012005\n",
       "Driving_License          0.000417\n",
       "dtype: float64"
      ]
     },
     "execution_count": 23,
     "metadata": {},
     "output_type": "execute_result"
    }
   ],
   "source": [
    "    forest_importance = pd.Series(model.feature_importances_,index=X.columns)\n",
    "forest_importance.sort_values(ascending=False).head(10)"
   ]
  },
  {
   "cell_type": "markdown",
   "id": "b6abf238",
   "metadata": {},
   "source": [
    "## 2) What is the accuracy when you use an SVM? How does changing the model affect the accuracy?\n"
   ]
  },
  {
   "cell_type": "code",
   "execution_count": 24,
   "id": "cec6d2e3",
   "metadata": {},
   "outputs": [
    {
     "name": "stderr",
     "output_type": "stream",
     "text": [
      "C:\\Users\\arun\\anaconda3\\lib\\site-packages\\sklearn\\utils\\validation.py:993: DataConversionWarning: A column-vector y was passed when a 1d array was expected. Please change the shape of y to (n_samples, ), for example using ravel().\n",
      "  y = column_or_1d(y, warn=True)\n"
     ]
    }
   ],
   "source": [
    "# building SVM \n",
    "from sklearn.svm import SVC\n",
    "model1 = SVC(random_state=47)\n",
    "\n",
    "svc_model = model1.fit(X_train,Y_train)  # fit train data\n"
   ]
  },
  {
   "cell_type": "code",
   "execution_count": 25,
   "id": "fe454f10",
   "metadata": {},
   "outputs": [
    {
     "data": {
      "text/html": [
       "<div>\n",
       "<style scoped>\n",
       "    .dataframe tbody tr th:only-of-type {\n",
       "        vertical-align: middle;\n",
       "    }\n",
       "\n",
       "    .dataframe tbody tr th {\n",
       "        vertical-align: top;\n",
       "    }\n",
       "\n",
       "    .dataframe thead th {\n",
       "        text-align: right;\n",
       "    }\n",
       "</style>\n",
       "<table border=\"1\" class=\"dataframe\">\n",
       "  <thead>\n",
       "    <tr style=\"text-align: right;\">\n",
       "      <th></th>\n",
       "      <th>Response</th>\n",
       "      <th>Prediction</th>\n",
       "    </tr>\n",
       "  </thead>\n",
       "  <tbody>\n",
       "    <tr>\n",
       "      <th>1568</th>\n",
       "      <td>1</td>\n",
       "      <td>0</td>\n",
       "    </tr>\n",
       "    <tr>\n",
       "      <th>648</th>\n",
       "      <td>0</td>\n",
       "      <td>0</td>\n",
       "    </tr>\n",
       "    <tr>\n",
       "      <th>3615</th>\n",
       "      <td>0</td>\n",
       "      <td>0</td>\n",
       "    </tr>\n",
       "    <tr>\n",
       "      <th>3734</th>\n",
       "      <td>1</td>\n",
       "      <td>0</td>\n",
       "    </tr>\n",
       "    <tr>\n",
       "      <th>2515</th>\n",
       "      <td>0</td>\n",
       "      <td>0</td>\n",
       "    </tr>\n",
       "    <tr>\n",
       "      <th>...</th>\n",
       "      <td>...</td>\n",
       "      <td>...</td>\n",
       "    </tr>\n",
       "    <tr>\n",
       "      <th>1323</th>\n",
       "      <td>0</td>\n",
       "      <td>0</td>\n",
       "    </tr>\n",
       "    <tr>\n",
       "      <th>3454</th>\n",
       "      <td>0</td>\n",
       "      <td>0</td>\n",
       "    </tr>\n",
       "    <tr>\n",
       "      <th>1057</th>\n",
       "      <td>0</td>\n",
       "      <td>0</td>\n",
       "    </tr>\n",
       "    <tr>\n",
       "      <th>2439</th>\n",
       "      <td>0</td>\n",
       "      <td>0</td>\n",
       "    </tr>\n",
       "    <tr>\n",
       "      <th>2507</th>\n",
       "      <td>0</td>\n",
       "      <td>0</td>\n",
       "    </tr>\n",
       "  </tbody>\n",
       "</table>\n",
       "<p>800 rows × 2 columns</p>\n",
       "</div>"
      ],
      "text/plain": [
       "      Response  Prediction\n",
       "1568         1           0\n",
       "648          0           0\n",
       "3615         0           0\n",
       "3734         1           0\n",
       "2515         0           0\n",
       "...        ...         ...\n",
       "1323         0           0\n",
       "3454         0           0\n",
       "1057         0           0\n",
       "2439         0           0\n",
       "2507         0           0\n",
       "\n",
       "[800 rows x 2 columns]"
      ]
     },
     "execution_count": 25,
     "metadata": {},
     "output_type": "execute_result"
    }
   ],
   "source": [
    "# prediction\n",
    "Y_test['Prediction'] = svc_model.predict(X_test)\n",
    "Y_test\n"
   ]
  },
  {
   "cell_type": "code",
   "execution_count": 26,
   "id": "a16996b6",
   "metadata": {},
   "outputs": [
    {
     "name": "stdout",
     "output_type": "stream",
     "text": [
      "[[699   0]\n",
      " [101   0]]\n"
     ]
    }
   ],
   "source": [
    "# confusion metrix\n",
    "from sklearn.metrics import confusion_matrix,accuracy_score\n",
    "print(confusion_matrix(Y_test['Response'],Y_test['Prediction']))"
   ]
  },
  {
   "cell_type": "code",
   "execution_count": 27,
   "id": "a5c72d2b",
   "metadata": {},
   "outputs": [
    {
     "name": "stdout",
     "output_type": "stream",
     "text": [
      "0.87375\n"
     ]
    }
   ],
   "source": [
    "# accuracy\n",
    "print(accuracy_score(Y_test['Response'],Y_test['Prediction']))\n"
   ]
  },
  {
   "cell_type": "markdown",
   "id": "12bbbe2e",
   "metadata": {},
   "source": [
    "###  Accuracy of SVM is 87.375 %; accuracy of SVM is higher than Random Forest \n"
   ]
  },
  {
   "cell_type": "code",
   "execution_count": 28,
   "id": "7146530b",
   "metadata": {},
   "outputs": [],
   "source": [
    "# from the result SVM is better than random forest"
   ]
  }
 ],
 "metadata": {
  "kernelspec": {
   "display_name": "Python 3 (ipykernel)",
   "language": "python",
   "name": "python3"
  },
  "language_info": {
   "codemirror_mode": {
    "name": "ipython",
    "version": 3
   },
   "file_extension": ".py",
   "mimetype": "text/x-python",
   "name": "python",
   "nbconvert_exporter": "python",
   "pygments_lexer": "ipython3",
   "version": "3.9.7"
  }
 },
 "nbformat": 4,
 "nbformat_minor": 5
}
