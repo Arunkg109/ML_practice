{
 "cells": [
  {
   "cell_type": "markdown",
   "id": "6e1cdf46",
   "metadata": {},
   "source": [
    "# Using Bank Marketing dataset we need to predict whether the customer will subscribe to our servises. Subscription is our target\n",
    "\n",
    "\n",
    "\n"
   ]
  },
  {
   "cell_type": "code",
   "execution_count": 1,
   "id": "fc877acd",
   "metadata": {},
   "outputs": [],
   "source": [
    "#Importing the libraries\n",
    "import pandas as pd"
   ]
  },
  {
   "cell_type": "code",
   "execution_count": 2,
   "id": "fdb0f786",
   "metadata": {},
   "outputs": [
    {
     "data": {
      "text/html": [
       "<div>\n",
       "<style scoped>\n",
       "    .dataframe tbody tr th:only-of-type {\n",
       "        vertical-align: middle;\n",
       "    }\n",
       "\n",
       "    .dataframe tbody tr th {\n",
       "        vertical-align: top;\n",
       "    }\n",
       "\n",
       "    .dataframe thead th {\n",
       "        text-align: right;\n",
       "    }\n",
       "</style>\n",
       "<table border=\"1\" class=\"dataframe\">\n",
       "  <thead>\n",
       "    <tr style=\"text-align: right;\">\n",
       "      <th></th>\n",
       "      <th>Age</th>\n",
       "      <th>Job</th>\n",
       "      <th>Marital Status</th>\n",
       "      <th>Account Balance</th>\n",
       "      <th>Own House</th>\n",
       "      <th>Personal Loan</th>\n",
       "      <th>No of campaigns</th>\n",
       "      <th>Subscription</th>\n",
       "    </tr>\n",
       "  </thead>\n",
       "  <tbody>\n",
       "    <tr>\n",
       "      <th>0</th>\n",
       "      <td>59</td>\n",
       "      <td>unemployed</td>\n",
       "      <td>married</td>\n",
       "      <td>0</td>\n",
       "      <td>0</td>\n",
       "      <td>0</td>\n",
       "      <td>0</td>\n",
       "      <td>0</td>\n",
       "    </tr>\n",
       "    <tr>\n",
       "      <th>1</th>\n",
       "      <td>36</td>\n",
       "      <td>Others</td>\n",
       "      <td>married</td>\n",
       "      <td>3057</td>\n",
       "      <td>0</td>\n",
       "      <td>0</td>\n",
       "      <td>0</td>\n",
       "      <td>1</td>\n",
       "    </tr>\n",
       "    <tr>\n",
       "      <th>2</th>\n",
       "      <td>47</td>\n",
       "      <td>blue-collar</td>\n",
       "      <td>divorced</td>\n",
       "      <td>126</td>\n",
       "      <td>1</td>\n",
       "      <td>0</td>\n",
       "      <td>0</td>\n",
       "      <td>1</td>\n",
       "    </tr>\n",
       "    <tr>\n",
       "      <th>3</th>\n",
       "      <td>43</td>\n",
       "      <td>management</td>\n",
       "      <td>divorced</td>\n",
       "      <td>388</td>\n",
       "      <td>1</td>\n",
       "      <td>0</td>\n",
       "      <td>0</td>\n",
       "      <td>1</td>\n",
       "    </tr>\n",
       "    <tr>\n",
       "      <th>4</th>\n",
       "      <td>34</td>\n",
       "      <td>self-employed</td>\n",
       "      <td>single</td>\n",
       "      <td>462</td>\n",
       "      <td>0</td>\n",
       "      <td>0</td>\n",
       "      <td>0</td>\n",
       "      <td>1</td>\n",
       "    </tr>\n",
       "  </tbody>\n",
       "</table>\n",
       "</div>"
      ],
      "text/plain": [
       "   Age            Job Marital Status  Account Balance  Own House  \\\n",
       "0   59     unemployed        married                0          0   \n",
       "1   36         Others        married             3057          0   \n",
       "2   47    blue-collar       divorced              126          1   \n",
       "3   43     management       divorced              388          1   \n",
       "4   34  self-employed         single              462          0   \n",
       "\n",
       "   Personal Loan  No of campaigns  Subscription  \n",
       "0              0                0             0  \n",
       "1              0                0             1  \n",
       "2              0                0             1  \n",
       "3              0                0             1  \n",
       "4              0                0             1  "
      ]
     },
     "execution_count": 2,
     "metadata": {},
     "output_type": "execute_result"
    }
   ],
   "source": [
    "bank_marketing = pd.read_excel('F:\\Skillenable\\Data frames\\Bank marketing.xlsx')\n",
    "bank_marketing.head()"
   ]
  },
  {
   "cell_type": "code",
   "execution_count": null,
   "id": "21a7ce4a",
   "metadata": {},
   "outputs": [],
   "source": []
  },
  {
   "cell_type": "code",
   "execution_count": 3,
   "id": "e97518bd",
   "metadata": {},
   "outputs": [
    {
     "name": "stdout",
     "output_type": "stream",
     "text": [
      "<class 'pandas.core.frame.DataFrame'>\n",
      "RangeIndex: 4521 entries, 0 to 4520\n",
      "Data columns (total 8 columns):\n",
      " #   Column           Non-Null Count  Dtype \n",
      "---  ------           --------------  ----- \n",
      " 0   Age              4521 non-null   int64 \n",
      " 1   Job              4521 non-null   object\n",
      " 2   Marital Status   4521 non-null   object\n",
      " 3   Account Balance  4521 non-null   int64 \n",
      " 4   Own House        4521 non-null   int64 \n",
      " 5   Personal Loan    4521 non-null   int64 \n",
      " 6   No of campaigns  4521 non-null   int64 \n",
      " 7   Subscription     4521 non-null   int64 \n",
      "dtypes: int64(6), object(2)\n",
      "memory usage: 282.7+ KB\n"
     ]
    },
    {
     "data": {
      "text/plain": [
       "Age                0\n",
       "Job                0\n",
       "Marital Status     0\n",
       "Account Balance    0\n",
       "Own House          0\n",
       "Personal Loan      0\n",
       "No of campaigns    0\n",
       "Subscription       0\n",
       "dtype: int64"
      ]
     },
     "execution_count": 3,
     "metadata": {},
     "output_type": "execute_result"
    }
   ],
   "source": [
    "bank_marketing.info()\n",
    "bank_marketing.isnull().sum()   "
   ]
  },
  {
   "cell_type": "code",
   "execution_count": 4,
   "id": "363f1567",
   "metadata": {},
   "outputs": [
    {
     "data": {
      "text/plain": [
       "(4521, 8)"
      ]
     },
     "execution_count": 4,
     "metadata": {},
     "output_type": "execute_result"
    }
   ],
   "source": [
    "# crete dummy data for catagorical values\n",
    "\n",
    "bank_marketing.shape"
   ]
  },
  {
   "cell_type": "code",
   "execution_count": 3,
   "id": "1d6c8e61",
   "metadata": {},
   "outputs": [
    {
     "data": {
      "text/plain": [
       "4521"
      ]
     },
     "execution_count": 3,
     "metadata": {},
     "output_type": "execute_result"
    }
   ],
   "source": [
    "bank_marketing.shape[0]  "
   ]
  },
  {
   "cell_type": "code",
   "execution_count": 5,
   "id": "8f90aa6e",
   "metadata": {},
   "outputs": [
    {
     "data": {
      "text/plain": [
       "['Job', 'Marital Status']"
      ]
     },
     "execution_count": 5,
     "metadata": {},
     "output_type": "execute_result"
    }
   ],
   "source": [
    "cat_col = ['Job', 'Marital Status']\n",
    "cat_col"
   ]
  },
  {
   "cell_type": "code",
   "execution_count": 6,
   "id": "a8114d7d",
   "metadata": {},
   "outputs": [
    {
     "data": {
      "text/html": [
       "<div>\n",
       "<style scoped>\n",
       "    .dataframe tbody tr th:only-of-type {\n",
       "        vertical-align: middle;\n",
       "    }\n",
       "\n",
       "    .dataframe tbody tr th {\n",
       "        vertical-align: top;\n",
       "    }\n",
       "\n",
       "    .dataframe thead th {\n",
       "        text-align: right;\n",
       "    }\n",
       "</style>\n",
       "<table border=\"1\" class=\"dataframe\">\n",
       "  <thead>\n",
       "    <tr style=\"text-align: right;\">\n",
       "      <th></th>\n",
       "      <th>Age</th>\n",
       "      <th>Account Balance</th>\n",
       "      <th>Own House</th>\n",
       "      <th>Personal Loan</th>\n",
       "      <th>No of campaigns</th>\n",
       "      <th>Subscription</th>\n",
       "      <th>Job_blue-collar</th>\n",
       "      <th>Job_management</th>\n",
       "      <th>Job_self-employed</th>\n",
       "      <th>Job_unemployed</th>\n",
       "      <th>Marital Status_married</th>\n",
       "      <th>Marital Status_single</th>\n",
       "    </tr>\n",
       "  </thead>\n",
       "  <tbody>\n",
       "    <tr>\n",
       "      <th>0</th>\n",
       "      <td>59</td>\n",
       "      <td>0</td>\n",
       "      <td>0</td>\n",
       "      <td>0</td>\n",
       "      <td>0</td>\n",
       "      <td>0</td>\n",
       "      <td>0</td>\n",
       "      <td>0</td>\n",
       "      <td>0</td>\n",
       "      <td>1</td>\n",
       "      <td>1</td>\n",
       "      <td>0</td>\n",
       "    </tr>\n",
       "    <tr>\n",
       "      <th>1</th>\n",
       "      <td>36</td>\n",
       "      <td>3057</td>\n",
       "      <td>0</td>\n",
       "      <td>0</td>\n",
       "      <td>0</td>\n",
       "      <td>1</td>\n",
       "      <td>0</td>\n",
       "      <td>0</td>\n",
       "      <td>0</td>\n",
       "      <td>0</td>\n",
       "      <td>1</td>\n",
       "      <td>0</td>\n",
       "    </tr>\n",
       "    <tr>\n",
       "      <th>2</th>\n",
       "      <td>47</td>\n",
       "      <td>126</td>\n",
       "      <td>1</td>\n",
       "      <td>0</td>\n",
       "      <td>0</td>\n",
       "      <td>1</td>\n",
       "      <td>1</td>\n",
       "      <td>0</td>\n",
       "      <td>0</td>\n",
       "      <td>0</td>\n",
       "      <td>0</td>\n",
       "      <td>0</td>\n",
       "    </tr>\n",
       "    <tr>\n",
       "      <th>3</th>\n",
       "      <td>43</td>\n",
       "      <td>388</td>\n",
       "      <td>1</td>\n",
       "      <td>0</td>\n",
       "      <td>0</td>\n",
       "      <td>1</td>\n",
       "      <td>0</td>\n",
       "      <td>1</td>\n",
       "      <td>0</td>\n",
       "      <td>0</td>\n",
       "      <td>0</td>\n",
       "      <td>0</td>\n",
       "    </tr>\n",
       "    <tr>\n",
       "      <th>4</th>\n",
       "      <td>34</td>\n",
       "      <td>462</td>\n",
       "      <td>0</td>\n",
       "      <td>0</td>\n",
       "      <td>0</td>\n",
       "      <td>1</td>\n",
       "      <td>0</td>\n",
       "      <td>0</td>\n",
       "      <td>1</td>\n",
       "      <td>0</td>\n",
       "      <td>0</td>\n",
       "      <td>1</td>\n",
       "    </tr>\n",
       "    <tr>\n",
       "      <th>...</th>\n",
       "      <td>...</td>\n",
       "      <td>...</td>\n",
       "      <td>...</td>\n",
       "      <td>...</td>\n",
       "      <td>...</td>\n",
       "      <td>...</td>\n",
       "      <td>...</td>\n",
       "      <td>...</td>\n",
       "      <td>...</td>\n",
       "      <td>...</td>\n",
       "      <td>...</td>\n",
       "      <td>...</td>\n",
       "    </tr>\n",
       "    <tr>\n",
       "      <th>4516</th>\n",
       "      <td>58</td>\n",
       "      <td>0</td>\n",
       "      <td>1</td>\n",
       "      <td>0</td>\n",
       "      <td>0</td>\n",
       "      <td>0</td>\n",
       "      <td>1</td>\n",
       "      <td>0</td>\n",
       "      <td>0</td>\n",
       "      <td>0</td>\n",
       "      <td>1</td>\n",
       "      <td>0</td>\n",
       "    </tr>\n",
       "    <tr>\n",
       "      <th>4517</th>\n",
       "      <td>38</td>\n",
       "      <td>0</td>\n",
       "      <td>1</td>\n",
       "      <td>0</td>\n",
       "      <td>0</td>\n",
       "      <td>0</td>\n",
       "      <td>0</td>\n",
       "      <td>0</td>\n",
       "      <td>0</td>\n",
       "      <td>0</td>\n",
       "      <td>1</td>\n",
       "      <td>0</td>\n",
       "    </tr>\n",
       "    <tr>\n",
       "      <th>4518</th>\n",
       "      <td>53</td>\n",
       "      <td>2627</td>\n",
       "      <td>1</td>\n",
       "      <td>1</td>\n",
       "      <td>0</td>\n",
       "      <td>0</td>\n",
       "      <td>0</td>\n",
       "      <td>0</td>\n",
       "      <td>1</td>\n",
       "      <td>0</td>\n",
       "      <td>1</td>\n",
       "      <td>0</td>\n",
       "    </tr>\n",
       "    <tr>\n",
       "      <th>4519</th>\n",
       "      <td>49</td>\n",
       "      <td>371</td>\n",
       "      <td>1</td>\n",
       "      <td>0</td>\n",
       "      <td>0</td>\n",
       "      <td>0</td>\n",
       "      <td>1</td>\n",
       "      <td>0</td>\n",
       "      <td>0</td>\n",
       "      <td>0</td>\n",
       "      <td>1</td>\n",
       "      <td>0</td>\n",
       "    </tr>\n",
       "    <tr>\n",
       "      <th>4520</th>\n",
       "      <td>35</td>\n",
       "      <td>280</td>\n",
       "      <td>1</td>\n",
       "      <td>1</td>\n",
       "      <td>0</td>\n",
       "      <td>0</td>\n",
       "      <td>1</td>\n",
       "      <td>0</td>\n",
       "      <td>0</td>\n",
       "      <td>0</td>\n",
       "      <td>1</td>\n",
       "      <td>0</td>\n",
       "    </tr>\n",
       "  </tbody>\n",
       "</table>\n",
       "<p>4521 rows × 12 columns</p>\n",
       "</div>"
      ],
      "text/plain": [
       "      Age  Account Balance  Own House  Personal Loan  No of campaigns  \\\n",
       "0      59                0          0              0                0   \n",
       "1      36             3057          0              0                0   \n",
       "2      47              126          1              0                0   \n",
       "3      43              388          1              0                0   \n",
       "4      34              462          0              0                0   \n",
       "...   ...              ...        ...            ...              ...   \n",
       "4516   58                0          1              0                0   \n",
       "4517   38                0          1              0                0   \n",
       "4518   53             2627          1              1                0   \n",
       "4519   49              371          1              0                0   \n",
       "4520   35              280          1              1                0   \n",
       "\n",
       "      Subscription  Job_blue-collar  Job_management  Job_self-employed  \\\n",
       "0                0                0               0                  0   \n",
       "1                1                0               0                  0   \n",
       "2                1                1               0                  0   \n",
       "3                1                0               1                  0   \n",
       "4                1                0               0                  1   \n",
       "...            ...              ...             ...                ...   \n",
       "4516             0                1               0                  0   \n",
       "4517             0                0               0                  0   \n",
       "4518             0                0               0                  1   \n",
       "4519             0                1               0                  0   \n",
       "4520             0                1               0                  0   \n",
       "\n",
       "      Job_unemployed  Marital Status_married  Marital Status_single  \n",
       "0                  1                       1                      0  \n",
       "1                  0                       1                      0  \n",
       "2                  0                       0                      0  \n",
       "3                  0                       0                      0  \n",
       "4                  0                       0                      1  \n",
       "...              ...                     ...                    ...  \n",
       "4516               0                       1                      0  \n",
       "4517               0                       1                      0  \n",
       "4518               0                       1                      0  \n",
       "4519               0                       1                      0  \n",
       "4520               0                       1                      0  \n",
       "\n",
       "[4521 rows x 12 columns]"
      ]
     },
     "execution_count": 6,
     "metadata": {},
     "output_type": "execute_result"
    }
   ],
   "source": [
    "bank_dummy = pd.get_dummies(bank_marketing, columns = cat_col, drop_first= True)\n",
    "bank_dummy"
   ]
  },
  {
   "cell_type": "code",
   "execution_count": 7,
   "id": "c2d4e49a",
   "metadata": {},
   "outputs": [],
   "source": [
    "# create input nad output \n",
    "Y = bank_dummy[['Subscription']]\n",
    "X = bank_dummy.drop(columns=['Subscription'])"
   ]
  },
  {
   "cell_type": "code",
   "execution_count": 8,
   "id": "93b29f24",
   "metadata": {},
   "outputs": [
    {
     "data": {
      "text/plain": [
       "(3616, 905, 3616, 905)"
      ]
     },
     "execution_count": 8,
     "metadata": {},
     "output_type": "execute_result"
    }
   ],
   "source": [
    "# spliting data into test and train\n",
    "\n",
    "from sklearn.model_selection import train_test_split\n",
    "\n",
    "X_train,X_test,Y_train,Y_test = train_test_split(X,Y,test_size=0.2,random_state=47)\n",
    "len(X_train),len(X_test),len(Y_train),len(Y_test)"
   ]
  },
  {
   "cell_type": "markdown",
   "id": "4e4acf31",
   "metadata": {},
   "source": [
    "## 1) What is the accuracy when you use as Random forest?"
   ]
  },
  {
   "cell_type": "code",
   "execution_count": 9,
   "id": "db05eae6",
   "metadata": {},
   "outputs": [
    {
     "name": "stderr",
     "output_type": "stream",
     "text": [
      "C:\\Users\\arun\\AppData\\Local\\Temp/ipykernel_16608/2412031796.py:5: DataConversionWarning: A column-vector y was passed when a 1d array was expected. Please change the shape of y to (n_samples,), for example using ravel().\n",
      "  rf = model.fit(X_train,Y_train)\n"
     ]
    }
   ],
   "source": [
    "# creating random forest model\n",
    "from sklearn.ensemble import RandomForestClassifier\n",
    "\n",
    "model = RandomForestClassifier(n_estimators=500,random_state=42)\n",
    "rf = model.fit(X_train,Y_train)\n"
   ]
  },
  {
   "cell_type": "code",
   "execution_count": 10,
   "id": "8ad32ff8",
   "metadata": {},
   "outputs": [
    {
     "data": {
      "text/html": [
       "<div>\n",
       "<style scoped>\n",
       "    .dataframe tbody tr th:only-of-type {\n",
       "        vertical-align: middle;\n",
       "    }\n",
       "\n",
       "    .dataframe tbody tr th {\n",
       "        vertical-align: top;\n",
       "    }\n",
       "\n",
       "    .dataframe thead th {\n",
       "        text-align: right;\n",
       "    }\n",
       "</style>\n",
       "<table border=\"1\" class=\"dataframe\">\n",
       "  <thead>\n",
       "    <tr style=\"text-align: right;\">\n",
       "      <th></th>\n",
       "      <th>Subscription</th>\n",
       "    </tr>\n",
       "  </thead>\n",
       "  <tbody>\n",
       "    <tr>\n",
       "      <th>1034</th>\n",
       "      <td>0</td>\n",
       "    </tr>\n",
       "    <tr>\n",
       "      <th>3673</th>\n",
       "      <td>0</td>\n",
       "    </tr>\n",
       "    <tr>\n",
       "      <th>1004</th>\n",
       "      <td>0</td>\n",
       "    </tr>\n",
       "    <tr>\n",
       "      <th>3489</th>\n",
       "      <td>0</td>\n",
       "    </tr>\n",
       "    <tr>\n",
       "      <th>682</th>\n",
       "      <td>0</td>\n",
       "    </tr>\n",
       "    <tr>\n",
       "      <th>...</th>\n",
       "      <td>...</td>\n",
       "    </tr>\n",
       "    <tr>\n",
       "      <th>1326</th>\n",
       "      <td>0</td>\n",
       "    </tr>\n",
       "    <tr>\n",
       "      <th>2012</th>\n",
       "      <td>0</td>\n",
       "    </tr>\n",
       "    <tr>\n",
       "      <th>2519</th>\n",
       "      <td>0</td>\n",
       "    </tr>\n",
       "    <tr>\n",
       "      <th>755</th>\n",
       "      <td>0</td>\n",
       "    </tr>\n",
       "    <tr>\n",
       "      <th>2917</th>\n",
       "      <td>0</td>\n",
       "    </tr>\n",
       "  </tbody>\n",
       "</table>\n",
       "<p>905 rows × 1 columns</p>\n",
       "</div>"
      ],
      "text/plain": [
       "      Subscription\n",
       "1034             0\n",
       "3673             0\n",
       "1004             0\n",
       "3489             0\n",
       "682              0\n",
       "...            ...\n",
       "1326             0\n",
       "2012             0\n",
       "2519             0\n",
       "755              0\n",
       "2917             0\n",
       "\n",
       "[905 rows x 1 columns]"
      ]
     },
     "execution_count": 10,
     "metadata": {},
     "output_type": "execute_result"
    }
   ],
   "source": [
    "# Predicting the model on test data\n",
    "Y_test"
   ]
  },
  {
   "cell_type": "code",
   "execution_count": 11,
   "id": "ad7f5812",
   "metadata": {},
   "outputs": [
    {
     "name": "stderr",
     "output_type": "stream",
     "text": [
      "C:\\Users\\arun\\AppData\\Local\\Temp/ipykernel_16608/583016460.py:1: SettingWithCopyWarning: \n",
      "A value is trying to be set on a copy of a slice from a DataFrame.\n",
      "Try using .loc[row_indexer,col_indexer] = value instead\n",
      "\n",
      "See the caveats in the documentation: https://pandas.pydata.org/pandas-docs/stable/user_guide/indexing.html#returning-a-view-versus-a-copy\n",
      "  Y_test['Prediction'] = model.predict(X_test)\n"
     ]
    },
    {
     "data": {
      "text/html": [
       "<div>\n",
       "<style scoped>\n",
       "    .dataframe tbody tr th:only-of-type {\n",
       "        vertical-align: middle;\n",
       "    }\n",
       "\n",
       "    .dataframe tbody tr th {\n",
       "        vertical-align: top;\n",
       "    }\n",
       "\n",
       "    .dataframe thead th {\n",
       "        text-align: right;\n",
       "    }\n",
       "</style>\n",
       "<table border=\"1\" class=\"dataframe\">\n",
       "  <thead>\n",
       "    <tr style=\"text-align: right;\">\n",
       "      <th></th>\n",
       "      <th>Subscription</th>\n",
       "      <th>Prediction</th>\n",
       "    </tr>\n",
       "  </thead>\n",
       "  <tbody>\n",
       "    <tr>\n",
       "      <th>1034</th>\n",
       "      <td>0</td>\n",
       "      <td>0</td>\n",
       "    </tr>\n",
       "    <tr>\n",
       "      <th>3673</th>\n",
       "      <td>0</td>\n",
       "      <td>0</td>\n",
       "    </tr>\n",
       "    <tr>\n",
       "      <th>1004</th>\n",
       "      <td>0</td>\n",
       "      <td>0</td>\n",
       "    </tr>\n",
       "    <tr>\n",
       "      <th>3489</th>\n",
       "      <td>0</td>\n",
       "      <td>0</td>\n",
       "    </tr>\n",
       "    <tr>\n",
       "      <th>682</th>\n",
       "      <td>0</td>\n",
       "      <td>0</td>\n",
       "    </tr>\n",
       "    <tr>\n",
       "      <th>...</th>\n",
       "      <td>...</td>\n",
       "      <td>...</td>\n",
       "    </tr>\n",
       "    <tr>\n",
       "      <th>1326</th>\n",
       "      <td>0</td>\n",
       "      <td>0</td>\n",
       "    </tr>\n",
       "    <tr>\n",
       "      <th>2012</th>\n",
       "      <td>0</td>\n",
       "      <td>0</td>\n",
       "    </tr>\n",
       "    <tr>\n",
       "      <th>2519</th>\n",
       "      <td>0</td>\n",
       "      <td>0</td>\n",
       "    </tr>\n",
       "    <tr>\n",
       "      <th>755</th>\n",
       "      <td>0</td>\n",
       "      <td>0</td>\n",
       "    </tr>\n",
       "    <tr>\n",
       "      <th>2917</th>\n",
       "      <td>0</td>\n",
       "      <td>0</td>\n",
       "    </tr>\n",
       "  </tbody>\n",
       "</table>\n",
       "<p>905 rows × 2 columns</p>\n",
       "</div>"
      ],
      "text/plain": [
       "      Subscription  Prediction\n",
       "1034             0           0\n",
       "3673             0           0\n",
       "1004             0           0\n",
       "3489             0           0\n",
       "682              0           0\n",
       "...            ...         ...\n",
       "1326             0           0\n",
       "2012             0           0\n",
       "2519             0           0\n",
       "755              0           0\n",
       "2917             0           0\n",
       "\n",
       "[905 rows x 2 columns]"
      ]
     },
     "execution_count": 11,
     "metadata": {},
     "output_type": "execute_result"
    }
   ],
   "source": [
    "Y_test['Prediction'] = model.predict(X_test)\n",
    "Y_test"
   ]
  },
  {
   "cell_type": "code",
   "execution_count": 12,
   "id": "e99db6e9",
   "metadata": {},
   "outputs": [
    {
     "name": "stdout",
     "output_type": "stream",
     "text": [
      "[[759  30]\n",
      " [106  10]]\n"
     ]
    }
   ],
   "source": [
    "from sklearn.metrics import confusion_matrix, accuracy_score\n",
    "\n",
    "print(confusion_matrix(Y_test['Subscription'],Y_test['Prediction']))"
   ]
  },
  {
   "cell_type": "code",
   "execution_count": 13,
   "id": "05085aff",
   "metadata": {},
   "outputs": [
    {
     "name": "stdout",
     "output_type": "stream",
     "text": [
      "0.8497237569060774\n"
     ]
    }
   ],
   "source": [
    "print(accuracy_score(Y_test['Subscription'],Y_test['Prediction']))\n"
   ]
  },
  {
   "cell_type": "markdown",
   "id": "f6ef5307",
   "metadata": {},
   "source": [
    "### the accuracy of Forest tree is 84.97%"
   ]
  },
  {
   "cell_type": "markdown",
   "id": "8621e701",
   "metadata": {},
   "source": [
    "## 3) Find the top 4 important factors by using Random Forest. What is your inference?"
   ]
  },
  {
   "cell_type": "code",
   "execution_count": 14,
   "id": "d38c2b0a",
   "metadata": {},
   "outputs": [
    {
     "data": {
      "text/plain": [
       "array([0.29715908, 0.47789397, 0.02710084, 0.01590041, 0.09106062,\n",
       "       0.01774676, 0.02177484, 0.00957233, 0.00738627, 0.01956348,\n",
       "       0.0148414 ])"
      ]
     },
     "execution_count": 14,
     "metadata": {},
     "output_type": "execute_result"
    }
   ],
   "source": [
    "model.feature_importances_"
   ]
  },
  {
   "cell_type": "code",
   "execution_count": 15,
   "id": "21f57727",
   "metadata": {},
   "outputs": [
    {
     "data": {
      "text/plain": [
       "Account Balance           0.477894\n",
       "Age                       0.297159\n",
       "No of campaigns           0.091061\n",
       "Own House                 0.027101\n",
       "Job_management            0.021775\n",
       "Marital Status_married    0.019563\n",
       "Job_blue-collar           0.017747\n",
       "Personal Loan             0.015900\n",
       "Marital Status_single     0.014841\n",
       "Job_self-employed         0.009572\n",
       "dtype: float64"
      ]
     },
     "execution_count": 15,
     "metadata": {},
     "output_type": "execute_result"
    }
   ],
   "source": [
    "forest_importance = pd.Series(model.feature_importances_,index=X.columns)\n",
    "forest_importance.sort_values(ascending=False).head(10)"
   ]
  },
  {
   "cell_type": "markdown",
   "id": "76c8512e",
   "metadata": {},
   "source": [
    "## 2) What is the accuracy when you use an SVM? How does changing the model affect the accuracy?\n"
   ]
  },
  {
   "cell_type": "code",
   "execution_count": 16,
   "id": "9c36cc86",
   "metadata": {},
   "outputs": [],
   "source": [
    "# building SVM \n",
    "from sklearn.svm import SVC\n",
    "model1 = SVC(random_state=47)"
   ]
  },
  {
   "cell_type": "code",
   "execution_count": 17,
   "id": "13ad11f2",
   "metadata": {},
   "outputs": [
    {
     "name": "stderr",
     "output_type": "stream",
     "text": [
      "C:\\Users\\arun\\anaconda3\\lib\\site-packages\\sklearn\\utils\\validation.py:63: DataConversionWarning: A column-vector y was passed when a 1d array was expected. Please change the shape of y to (n_samples, ), for example using ravel().\n",
      "  return f(*args, **kwargs)\n"
     ]
    }
   ],
   "source": [
    "svc_model = model1.fit(X_train,Y_train)  # fit train data\n"
   ]
  },
  {
   "cell_type": "code",
   "execution_count": 19,
   "id": "3c2ca19e",
   "metadata": {},
   "outputs": [
    {
     "name": "stderr",
     "output_type": "stream",
     "text": [
      "C:\\Users\\arun\\AppData\\Local\\Temp/ipykernel_16608/739399881.py:2: SettingWithCopyWarning: \n",
      "A value is trying to be set on a copy of a slice from a DataFrame.\n",
      "Try using .loc[row_indexer,col_indexer] = value instead\n",
      "\n",
      "See the caveats in the documentation: https://pandas.pydata.org/pandas-docs/stable/user_guide/indexing.html#returning-a-view-versus-a-copy\n",
      "  Y_test['Prediction'] = svc_model.predict(X_test)\n"
     ]
    },
    {
     "data": {
      "text/html": [
       "<div>\n",
       "<style scoped>\n",
       "    .dataframe tbody tr th:only-of-type {\n",
       "        vertical-align: middle;\n",
       "    }\n",
       "\n",
       "    .dataframe tbody tr th {\n",
       "        vertical-align: top;\n",
       "    }\n",
       "\n",
       "    .dataframe thead th {\n",
       "        text-align: right;\n",
       "    }\n",
       "</style>\n",
       "<table border=\"1\" class=\"dataframe\">\n",
       "  <thead>\n",
       "    <tr style=\"text-align: right;\">\n",
       "      <th></th>\n",
       "      <th>Subscription</th>\n",
       "      <th>Prediction</th>\n",
       "    </tr>\n",
       "  </thead>\n",
       "  <tbody>\n",
       "    <tr>\n",
       "      <th>1034</th>\n",
       "      <td>0</td>\n",
       "      <td>0</td>\n",
       "    </tr>\n",
       "    <tr>\n",
       "      <th>3673</th>\n",
       "      <td>0</td>\n",
       "      <td>0</td>\n",
       "    </tr>\n",
       "    <tr>\n",
       "      <th>1004</th>\n",
       "      <td>0</td>\n",
       "      <td>0</td>\n",
       "    </tr>\n",
       "    <tr>\n",
       "      <th>3489</th>\n",
       "      <td>0</td>\n",
       "      <td>0</td>\n",
       "    </tr>\n",
       "    <tr>\n",
       "      <th>682</th>\n",
       "      <td>0</td>\n",
       "      <td>0</td>\n",
       "    </tr>\n",
       "    <tr>\n",
       "      <th>...</th>\n",
       "      <td>...</td>\n",
       "      <td>...</td>\n",
       "    </tr>\n",
       "    <tr>\n",
       "      <th>1326</th>\n",
       "      <td>0</td>\n",
       "      <td>0</td>\n",
       "    </tr>\n",
       "    <tr>\n",
       "      <th>2012</th>\n",
       "      <td>0</td>\n",
       "      <td>0</td>\n",
       "    </tr>\n",
       "    <tr>\n",
       "      <th>2519</th>\n",
       "      <td>0</td>\n",
       "      <td>0</td>\n",
       "    </tr>\n",
       "    <tr>\n",
       "      <th>755</th>\n",
       "      <td>0</td>\n",
       "      <td>0</td>\n",
       "    </tr>\n",
       "    <tr>\n",
       "      <th>2917</th>\n",
       "      <td>0</td>\n",
       "      <td>0</td>\n",
       "    </tr>\n",
       "  </tbody>\n",
       "</table>\n",
       "<p>905 rows × 2 columns</p>\n",
       "</div>"
      ],
      "text/plain": [
       "      Subscription  Prediction\n",
       "1034             0           0\n",
       "3673             0           0\n",
       "1004             0           0\n",
       "3489             0           0\n",
       "682              0           0\n",
       "...            ...         ...\n",
       "1326             0           0\n",
       "2012             0           0\n",
       "2519             0           0\n",
       "755              0           0\n",
       "2917             0           0\n",
       "\n",
       "[905 rows x 2 columns]"
      ]
     },
     "execution_count": 19,
     "metadata": {},
     "output_type": "execute_result"
    }
   ],
   "source": [
    "# prediction\n",
    "Y_test['Prediction'] = svc_model.predict(X_test)\n",
    "Y_test\n"
   ]
  },
  {
   "cell_type": "code",
   "execution_count": 22,
   "id": "e63223a5",
   "metadata": {},
   "outputs": [
    {
     "name": "stdout",
     "output_type": "stream",
     "text": [
      "[[789   0]\n",
      " [116   0]]\n"
     ]
    }
   ],
   "source": [
    "# confusion metrix\n",
    "from sklearn.metrics import confusion_matrix,accuracy_score\n",
    "print(confusion_matrix(Y_test['Subscription'],Y_test['Prediction']))"
   ]
  },
  {
   "cell_type": "code",
   "execution_count": 23,
   "id": "d38fca1e",
   "metadata": {},
   "outputs": [
    {
     "name": "stdout",
     "output_type": "stream",
     "text": [
      "0.8718232044198895\n"
     ]
    }
   ],
   "source": [
    "# accuracy\n",
    "print(accuracy_score(Y_test['Subscription'],Y_test['Prediction']))\n"
   ]
  },
  {
   "cell_type": "markdown",
   "id": "c39c0d1d",
   "metadata": {},
   "source": [
    "###  Accuracy of SVM is 87.18 %; accuracy of SVM is higher than Random Forest "
   ]
  },
  {
   "cell_type": "markdown",
   "id": "9bd2a808",
   "metadata": {},
   "source": []
  },
  {
   "cell_type": "markdown",
   "id": "1e0fee15",
   "metadata": {},
   "source": []
  },
  {
   "cell_type": "markdown",
   "id": "3f864a99",
   "metadata": {},
   "source": [
    "## 4) Which evaluation metrics is important and why?\n",
    "\n",
    "* Evaluation metrics explain the performance of a model. An important aspect of evaluation metrics is their capability to discriminate among model results.\n",
    "* following are some evalution metrics\n",
    "Confusion Matrix\n",
    "F1 Score\n",
    "Gain and Lift Charts\n",
    "Kolmogorov Smirnov Chart\n",
    "AUC – ROC\n",
    "Log Loss\n",
    "Gini Coefficient\n",
    "Concordant – Discordant Ratio\n",
    "Root Mean Squared Error\n",
    "Cross Validation (Not a metric though!)\n",
    "\n",
    "If we have a tight margin of error then we should follow precision. "
   ]
  },
  {
   "cell_type": "code",
   "execution_count": null,
   "id": "760b30e5",
   "metadata": {},
   "outputs": [],
   "source": []
  },
  {
   "cell_type": "code",
   "execution_count": null,
   "id": "2b8489e8",
   "metadata": {},
   "outputs": [],
   "source": []
  }
 ],
 "metadata": {
  "kernelspec": {
   "display_name": "Python 3 (ipykernel)",
   "language": "python",
   "name": "python3"
  },
  "language_info": {
   "codemirror_mode": {
    "name": "ipython",
    "version": 3
   },
   "file_extension": ".py",
   "mimetype": "text/x-python",
   "name": "python",
   "nbconvert_exporter": "python",
   "pygments_lexer": "ipython3",
   "version": "3.9.7"
  }
 },
 "nbformat": 4,
 "nbformat_minor": 5
}
